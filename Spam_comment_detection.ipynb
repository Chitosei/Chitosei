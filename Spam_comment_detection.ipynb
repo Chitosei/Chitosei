{
 "cells": [
  {
   "cell_type": "markdown",
   "metadata": {},
   "source": [
    "# Spam Comments Detection"
   ]
  },
  {
   "cell_type": "markdown",
   "metadata": {},
   "source": [
    "The proﬁtability promoted by Google in its brandnew video distribution platform YouTube has attracted anincreasing number of users. However, such success has alsoattracted malicious users, which aim to self-promote their videosor disseminate viruses and malwares. Since YouTube offerslimited tools for comment moderation, the spam volume isshockingly increasing which lead owners of famous channels todisable the comments section in their videos. Automatic commentspam ﬁltering on YouTube is a challenge even for established classiﬁcation methods, since the messages are very short andoften rife with slangs, symbols and abbreviations. In this work, wehave evaluated several top-performance classiﬁcation techniquesfor such purpose. "
   ]
  },
  {
   "cell_type": "markdown",
   "metadata": {},
   "source": [
    "We have collected and created five databases composed of real, public, and non-encoded data directly extracted from YouTube through its API in the first semester of 2015. We have selected five of the ten most viewed YouTube videos during the collection period."
   ]
  },
  {
   "cell_type": "code",
   "execution_count": 26,
   "metadata": {},
   "outputs": [
    {
     "name": "stdout",
     "output_type": "stream",
     "text": [
      "(350, 5)\n",
      "(350, 5)\n",
      "(438, 5)\n",
      "(448, 5)\n",
      "(370, 5)\n",
      "(1956, 5)\n"
     ]
    }
   ],
   "source": [
    "import pandas as pd\n",
    "import numpy as np\n",
    "import os\n",
    "from sklearn.model_selection import train_test_split\n",
    "from sklearn.metrics import classification_report\n",
    "import seaborn as sns\n",
    "from sklearn.feature_extraction.text import TfidfVectorizer\n",
    "from sklearn.metrics import confusion_matrix\n",
    "\n",
    "file_path = r'D:\\Download\\archive\\youtube-spam-collection-v1'\n",
    "data_1 = pd.read_csv(file_path + '\\Youtube01-Psy.csv')\n",
    "data_2 = pd.read_csv(file_path + '\\Youtube02-KatyPerry.csv')\n",
    "data_3 = pd.read_csv(file_path + '\\Youtube03-LMFAO.csv')\n",
    "data_4 = pd.read_csv(file_path + '\\Youtube04-Eminem.csv')\n",
    "data_5 = pd.read_csv(file_path + '\\Youtube05-Shakira.csv')\n",
    "\n",
    "\n",
    "print(data_1.shape)\n",
    "print(data_2.shape)\n",
    "print(data_3.shape)\n",
    "print(data_4.shape)\n",
    "print(data_5.shape)\n",
    "\n",
    "# Combination data\n",
    "data_total = pd.DataFrame()\n",
    "data_total = pd.concat([data_1,data_2,data_3,data_4,data_5])\n",
    "print(data_total.shape)\n",
    "\n"
   ]
  },
  {
   "attachments": {
    "image.png": {
     "image/png": "[encoded data removed]"
    }
   },
   "cell_type": "markdown",
   "metadata": {},
   "source": [
    "![image.png](attachment:image.png)"
   ]
  },
  {
   "cell_type": "markdown",
   "metadata": {},
   "source": [
    "For the experiments, we have ﬁrst processed the datasets,in which, only the texts of comments were used , discarding associated metadata . We employed the bag-of-words modeland frequency representation, as described below."
   ]
  },
  {
   "cell_type": "code",
   "execution_count": 2,
   "metadata": {},
   "outputs": [
    {
     "name": "stdout",
     "output_type": "stream",
     "text": [
      "(1956, 2)\n",
      "['Huh, anyway check out this you[tube] channel: kobyoshi02'\n",
      " \"Hey guys check out my new channel and our first vid THIS IS US THE  MONKEYS!!! I'm the monkey in the white shirt,please leave a like comment  and please subscribe!!!!\"\n",
      " 'just for test I have to say murdev.com'\n",
      " 'me shaking my sexy ass on my channel enjoy ^_^ \\ufeff'\n",
      " 'watch?v=vtaRGgvGtWQ   Check this out .\\ufeff'\n",
      " 'Hey, check out my new website!! This site is about kids stuff. kidsmediausa  . com'\n",
      " 'Subscribe to my channel \\ufeff'\n",
      " 'i turned it on mute as soon is i came on i just wanted to check the  views...\\ufeff'\n",
      " 'You should check my channel for Funny VIDEOS!!\\ufeff'\n",
      " 'and u should.d check my channel and tell me what I should do next!\\ufeff']\n"
     ]
    }
   ],
   "source": [
    "# use data 1 first\n",
    "# data_1_ext = data_1[['CONTENT','CLASS']]\n",
    "\n",
    "#Use all data\n",
    "data_1_ext = data_total[['CONTENT','CLASS']]\n",
    "print(data_1_ext.shape)\n",
    "# Content data\n",
    "X_data = data_1_ext.iloc[:,0].values\n",
    "print(X_data[:10])\n",
    "y_data = data_1_ext.iloc[:,1]\n"
   ]
  },
  {
   "cell_type": "markdown",
   "metadata": {},
   "source": [
    "## Build model"
   ]
  },
  {
   "cell_type": "markdown",
   "metadata": {},
   "source": [
    "- First build a vocabulary to make a bag of words\n",
    "- Convert text data to binary value"
   ]
  },
  {
   "cell_type": "code",
   "execution_count": 17,
   "metadata": {},
   "outputs": [
    {
     "name": "stdout",
     "output_type": "stream",
     "text": [
      "[0. 0. 0. ... 0. 0. 0.]\n"
     ]
    }
   ],
   "source": [
    "def preprocess_data(text_data):\n",
    "# make a set vocal:\n",
    "    vocab = set()\n",
    "    for sentence in text_data:\n",
    "        # Lower all text data\n",
    "        words = sentence.lower().split()\n",
    "        vocab.update(words)\n",
    "    # return to list\n",
    "    # Add some specific data\n",
    "    vocab = sorted(list(vocab))\n",
    "\n",
    "    # Binary encoding \n",
    "    encode_matrix = np.zeros((len(text_data), len(vocab)))\n",
    "\n",
    "    for i,value in enumerate(text_data):\n",
    "        words = value.lower().split()\n",
    "        for j,word in enumerate(vocab):\n",
    "            encode_matrix[i,j] = int(word in words) # Return True(1) or False(0)\n",
    "\n",
    "    return encode_matrix\n",
    "\n"
   ]
  },
  {
   "cell_type": "code",
   "execution_count": 20,
   "metadata": {},
   "outputs": [
    {
     "name": "stdout",
     "output_type": "stream",
     "text": [
      "[0. 1.]\n"
     ]
    }
   ],
   "source": [
    "X_data_encoded = preprocess_data(X_data)\n",
    "print(f'{np.unique(X_data_encoded[1])}')"
   ]
  },
  {
   "cell_type": "markdown",
   "metadata": {},
   "source": [
    "- Let preprocess data"
   ]
  },
  {
   "cell_type": "markdown",
   "metadata": {},
   "source": [
    "#### Batch generator"
   ]
  },
  {
   "cell_type": "code",
   "execution_count": 115,
   "metadata": {},
   "outputs": [],
   "source": [
    "def batch_generator(X, y, batch_size=128, shuffle=True):\n",
    "    \"\"\"\n",
    "    Just generate batches of data.\n",
    "\n",
    "    Parameters has:\n",
    "    - X: Input features (numpy array or pandas DataFrame)- Your training data\n",
    "    - y: Target labels (numpy array or pandas Series) - Your target data(or training)\n",
    "    - batch_size: Size of each batch (default: 32)\n",
    "    - shuffle: Whether to shuffle the data before batching (default: True)- Random \n",
    "    data\n",
    "\n",
    "    Yields:\n",
    "    - Tuple of (batch_X, batch_y) representing a batch of features and labels\n",
    "    \"\"\"\n",
    "    num_samples = X.shape[0]\n",
    "    indices = np.arange(num_samples)\n",
    "\n",
    "    if shuffle:\n",
    "        np.random.shuffle(indices)\n",
    "\n",
    "    for start_idx in range(0, num_samples, batch_size):\n",
    "        end_idx = min(start_idx + batch_size, num_samples)\n",
    "        batch_indices = indices[start_idx:end_idx]\n",
    "        batch_X = X[batch_indices]\n",
    "        batch_y = y[batch_indices]\n",
    "        yield batch_X, batch_y"
   ]
  },
  {
   "cell_type": "markdown",
   "metadata": {},
   "source": []
  },
  {
   "cell_type": "markdown",
   "metadata": {},
   "source": [
    "## Class Bernoulli Naive Bayes"
   ]
  },
  {
   "attachments": {
    "image.png": {
     "image/png": "[encoded data removed]"
    }
   },
   "cell_type": "markdown",
   "metadata": {},
   "source": [
    "![image.png](attachment:image.png)"
   ]
  },
  {
   "cell_type": "code",
   "execution_count": 13,
   "metadata": {},
   "outputs": [],
   "source": [
    "class Bernoulli_Naive_Bayes():\n",
    "    def __init__(self) -> None:\n",
    "        self.feature_probabilities = None\n",
    "        self.class_probabilities = None\n",
    "\n",
    "    def train(self,X_data,y_data):\n",
    "        n_samples,n_features = X_data.shape # Number of samples and features\n",
    "        self.classes = np.unique(y_data) # [0,1]\n",
    "        n_classes = len(self.classes) # Just number of classes\n",
    "        # Calculate the class probability P(C)\n",
    "        self.class_probabilities = np.zeros(n_classes)\n",
    "        for i, value in enumerate(self.classes):\n",
    "            self.class_probabilities[i] = np.sum(y_data == value) / n_samples\n",
    "    \n",
    "        # Calculate feature probabilities P(C/f)\n",
    "        self.feature_probabilities = np.zeros((n_classes,n_features)) # 2x1661\n",
    "        for i,value in enumerate(self.classes):\n",
    "            class_mask = (y_data == value)\n",
    "            feature_counts = np.sum(X_data[class_mask],axis=0) # search in row\n",
    "            # Add laplace smoothing then divide the probability\n",
    "            self.feature_probabilities[i] = (feature_counts + 1) / (np.sum(class_mask)+2)  # Laplace smoothing\n",
    "\n",
    "    def predict(self,X_data):\n",
    "        epsilon = 1e-10\n",
    "        prob = np.zeros((X_data.shape[0],len(self.classes))) # Probabilities predict\n",
    "        for i, value in enumerate(self.classes):\n",
    "            # prevent underflow with low probabilities\n",
    "            class_probability = np.log(self.class_probabilities[i]+epsilon)\n",
    "            feature_probability = np.log(self.feature_probabilities[i]+epsilon)\n",
    "            prob[:, i] = class_probability + np.sum(X_data * feature_probability + (1 - X_data) * np.log(1 - np.exp(feature_probability)), axis=1)    \n",
    "        print(prob[:10])\n",
    "        return self.classes[np.argmax(prob,axis=1)] # Return the class has highest probability\n",
    "     \n",
    "    \n",
    "\n",
    "\n"
   ]
  },
  {
   "cell_type": "markdown",
   "metadata": {},
   "source": [
    "## Test time"
   ]
  },
  {
   "cell_type": "markdown",
   "metadata": {},
   "source": []
  },
  {
   "cell_type": "code",
   "execution_count": 15,
   "metadata": {},
   "outputs": [],
   "source": [
    "\n",
    "\n",
    "model = Bernoulli_Naive_Bayes()\n",
    "\n",
    "train = model.train(X_train,y_train)\n",
    "\n",
    "\n"
   ]
  },
  {
   "cell_type": "code",
   "execution_count": 16,
   "metadata": {},
   "outputs": [
    {
     "name": "stdout",
     "output_type": "stream",
     "text": [
      "[[ -31.48475182  -43.55233287]\n",
      " [ -32.77002661  -46.17842626]\n",
      " [ -40.92184392  -50.22436573]\n",
      " [-379.70358042 -334.43133062]\n",
      " [ -38.08627665  -48.26574685]\n",
      " [ -21.21595728  -32.8361468 ]\n",
      " [ -64.11714082  -56.42593453]\n",
      " [ -48.3489397   -46.17597455]\n",
      " [ -25.99067148  -37.88131935]\n",
      " [ -76.6456233   -70.56949086]]\n"
     ]
    }
   ],
   "source": [
    "predictions = model.predict(X_test)\n",
    "\n",
    "# # print(predictions[:100])\n",
    "# print(y_test[:100])\n",
    "# print(classification_report(predictions,y_test))"
   ]
  },
  {
   "cell_type": "markdown",
   "metadata": {},
   "source": [
    "### Split data"
   ]
  },
  {
   "cell_type": "code",
   "execution_count": 22,
   "metadata": {},
   "outputs": [
    {
     "name": "stdout",
     "output_type": "stream",
     "text": [
      "(1564, 6094)\n"
     ]
    }
   ],
   "source": [
    "\n",
    "print(X_train.shape)"
   ]
  },
  {
   "cell_type": "code",
   "execution_count": 23,
   "metadata": {},
   "outputs": [
    {
     "name": "stdout",
     "output_type": "stream",
     "text": [
      "[0 0 0 1 0 0 1 1 0 1 1 0 1 0 0 1 0 0 1 0 1 0 1 1 1 0 0 0 0 1 0 0 0 0 1 0 1\n",
      " 0 0 0 0 1 0 1 1 0 1 1 0 0 1 0 1 1 0 0 1 0 0 0 1 1 1 0 0 0 0 1 1 1 0 0 1 0\n",
      " 1 0 1 0 0 0 0 0 1 0 1 1 1 0 1 0 0 0 1 0 0 0 1 0 0 1]\n",
      "[0 0 1 1 1 0 1 1 0 1 1 0 1 0 0 1 0 1 1 0 1 1 1 1 1 0 0 0 0 1 0 1 1 0 1 1 1\n",
      " 1 1 1 0 1 0 1 1 0 1 1 0 1 1 0 1 1 0 0 1 0 1 1 1 1 1 0 0 0 0 1 0 1 0 1 1 0\n",
      " 1 0 1 0 0 0 0 0 1 0 1 1 1 1 1 1 0 1 1 0 0 0 1 0 0 1]\n",
      "              precision    recall  f1-score   support\n",
      "\n",
      "           0       0.98      0.74      0.85       231\n",
      "           1       0.73      0.98      0.83       161\n",
      "\n",
      "    accuracy                           0.84       392\n",
      "   macro avg       0.85      0.86      0.84       392\n",
      "weighted avg       0.87      0.84      0.84       392\n",
      "\n"
     ]
    }
   ],
   "source": [
    "\n",
    "\n",
    "train = model.train(X_train,y_train)\n",
    "\n",
    "predictions = model.predict(X_test)\n",
    "print(predictions[:100])\n",
    "print(y_test[:100])\n",
    "print(classification_report(predictions,y_test))\n"
   ]
  },
  {
   "attachments": {
    "image.png": {
     "image/png": "[encoded data removed]"
    }
   },
   "cell_type": "markdown",
   "metadata": {},
   "source": [
    "![image.png](attachment:image.png)"
   ]
  },
  {
   "cell_type": "code",
   "execution_count": 31,
   "metadata": {},
   "outputs": [
    {
     "name": "stdout",
     "output_type": "stream",
     "text": [
      "(1564, 16355)\n"
     ]
    },
    {
     "data": {
      "text/html": [
       "<style>#sk-container-id-1 {\n",
       "  /* Definition of color scheme common for light and dark mode */\n",
       "  --sklearn-color-text: black;\n",
       "  --sklearn-color-line: gray;\n",
       "  /* Definition of color scheme for unfitted estimators */\n",
       "  --sklearn-color-unfitted-level-0: #fff5e6;\n",
       "  --sklearn-color-unfitted-level-1: #f6e4d2;\n",
       "  --sklearn-color-unfitted-level-2: #ffe0b3;\n",
       "  --sklearn-color-unfitted-level-3: chocolate;\n",
       "  /* Definition of color scheme for fitted estimators */\n",
       "  --sklearn-color-fitted-level-0: #f0f8ff;\n",
       "  --sklearn-color-fitted-level-1: #d4ebff;\n",
       "  --sklearn-color-fitted-level-2: #b3dbfd;\n",
       "  --sklearn-color-fitted-level-3: cornflowerblue;\n",
       "\n",
       "  /* Specific color for light theme */\n",
       "  --sklearn-color-text-on-default-background: var(--sg-text-color, var(--theme-code-foreground, var(--jp-content-font-color1, black)));\n",
       "  --sklearn-color-background: var(--sg-background-color, var(--theme-background, var(--jp-layout-color0, white)));\n",
       "  --sklearn-color-border-box: var(--sg-text-color, var(--theme-code-foreground, var(--jp-content-font-color1, black)));\n",
       "  --sklearn-color-icon: #696969;\n",
       "\n",
       "  @media (prefers-color-scheme: dark) {\n",
       "    /* Redefinition of color scheme for dark theme */\n",
       "    --sklearn-color-text-on-default-background: var(--sg-text-color, var(--theme-code-foreground, var(--jp-content-font-color1, white)));\n",
       "    --sklearn-color-background: var(--sg-background-color, var(--theme-background, var(--jp-layout-color0, #111)));\n",
       "    --sklearn-color-border-box: var(--sg-text-color, var(--theme-code-foreground, var(--jp-content-font-color1, white)));\n",
       "    --sklearn-color-icon: #878787;\n",
       "  }\n",
       "}\n",
       "\n",
       "#sk-container-id-1 {\n",
       "  color: var(--sklearn-color-text);\n",
       "}\n",
       "\n",
       "#sk-container-id-1 pre {\n",
       "  padding: 0;\n",
       "}\n",
       "\n",
       "#sk-container-id-1 input.sk-hidden--visually {\n",
       "  border: 0;\n",
       "  clip: rect(1px 1px 1px 1px);\n",
       "  clip: rect(1px, 1px, 1px, 1px);\n",
       "  height: 1px;\n",
       "  margin: -1px;\n",
       "  overflow: hidden;\n",
       "  padding: 0;\n",
       "  position: absolute;\n",
       "  width: 1px;\n",
       "}\n",
       "\n",
       "#sk-container-id-1 div.sk-dashed-wrapped {\n",
       "  border: 1px dashed var(--sklearn-color-line);\n",
       "  margin: 0 0.4em 0.5em 0.4em;\n",
       "  box-sizing: border-box;\n",
       "  padding-bottom: 0.4em;\n",
       "  background-color: var(--sklearn-color-background);\n",
       "}\n",
       "\n",
       "#sk-container-id-1 div.sk-container {\n",
       "  /* jupyter's `normalize.less` sets `[hidden] { display: none; }`\n",
       "     but bootstrap.min.css set `[hidden] { display: none !important; }`\n",
       "     so we also need the `!important` here to be able to override the\n",
       "     default hidden behavior on the sphinx rendered scikit-learn.org.\n",
       "     See: https://github.com/scikit-learn/scikit-learn/issues/21755 */\n",
       "  display: inline-block !important;\n",
       "  position: relative;\n",
       "}\n",
       "\n",
       "#sk-container-id-1 div.sk-text-repr-fallback {\n",
       "  display: none;\n",
       "}\n",
       "\n",
       "div.sk-parallel-item,\n",
       "div.sk-serial,\n",
       "div.sk-item {\n",
       "  /* draw centered vertical line to link estimators */\n",
       "  background-image: linear-gradient(var(--sklearn-color-text-on-default-background), var(--sklearn-color-text-on-default-background));\n",
       "  background-size: 2px 100%;\n",
       "  background-repeat: no-repeat;\n",
       "  background-position: center center;\n",
       "}\n",
       "\n",
       "/* Parallel-specific style estimator block */\n",
       "\n",
       "#sk-container-id-1 div.sk-parallel-item::after {\n",
       "  content: \"\";\n",
       "  width: 100%;\n",
       "  border-bottom: 2px solid var(--sklearn-color-text-on-default-background);\n",
       "  flex-grow: 1;\n",
       "}\n",
       "\n",
       "#sk-container-id-1 div.sk-parallel {\n",
       "  display: flex;\n",
       "  align-items: stretch;\n",
       "  justify-content: center;\n",
       "  background-color: var(--sklearn-color-background);\n",
       "  position: relative;\n",
       "}\n",
       "\n",
       "#sk-container-id-1 div.sk-parallel-item {\n",
       "  display: flex;\n",
       "  flex-direction: column;\n",
       "}\n",
       "\n",
       "#sk-container-id-1 div.sk-parallel-item:first-child::after {\n",
       "  align-self: flex-end;\n",
       "  width: 50%;\n",
       "}\n",
       "\n",
       "#sk-container-id-1 div.sk-parallel-item:last-child::after {\n",
       "  align-self: flex-start;\n",
       "  width: 50%;\n",
       "}\n",
       "\n",
       "#sk-container-id-1 div.sk-parallel-item:only-child::after {\n",
       "  width: 0;\n",
       "}\n",
       "\n",
       "/* Serial-specific style estimator block */\n",
       "\n",
       "#sk-container-id-1 div.sk-serial {\n",
       "  display: flex;\n",
       "  flex-direction: column;\n",
       "  align-items: center;\n",
       "  background-color: var(--sklearn-color-background);\n",
       "  padding-right: 1em;\n",
       "  padding-left: 1em;\n",
       "}\n",
       "\n",
       "\n",
       "/* Toggleable style: style used for estimator/Pipeline/ColumnTransformer box that is\n",
       "clickable and can be expanded/collapsed.\n",
       "- Pipeline and ColumnTransformer use this feature and define the default style\n",
       "- Estimators will overwrite some part of the style using the `sk-estimator` class\n",
       "*/\n",
       "\n",
       "/* Pipeline and ColumnTransformer style (default) */\n",
       "\n",
       "#sk-container-id-1 div.sk-toggleable {\n",
       "  /* Default theme specific background. It is overwritten whether we have a\n",
       "  specific estimator or a Pipeline/ColumnTransformer */\n",
       "  background-color: var(--sklearn-color-background);\n",
       "}\n",
       "\n",
       "/* Toggleable label */\n",
       "#sk-container-id-1 label.sk-toggleable__label {\n",
       "  cursor: pointer;\n",
       "  display: block;\n",
       "  width: 100%;\n",
       "  margin-bottom: 0;\n",
       "  padding: 0.5em;\n",
       "  box-sizing: border-box;\n",
       "  text-align: center;\n",
       "}\n",
       "\n",
       "#sk-container-id-1 label.sk-toggleable__label-arrow:before {\n",
       "  /* Arrow on the left of the label */\n",
       "  content: \"▸\";\n",
       "  float: left;\n",
       "  margin-right: 0.25em;\n",
       "  color: var(--sklearn-color-icon);\n",
       "}\n",
       "\n",
       "#sk-container-id-1 label.sk-toggleable__label-arrow:hover:before {\n",
       "  color: var(--sklearn-color-text);\n",
       "}\n",
       "\n",
       "/* Toggleable content - dropdown */\n",
       "\n",
       "#sk-container-id-1 div.sk-toggleable__content {\n",
       "  max-height: 0;\n",
       "  max-width: 0;\n",
       "  overflow: hidden;\n",
       "  text-align: left;\n",
       "  /* unfitted */\n",
       "  background-color: var(--sklearn-color-unfitted-level-0);\n",
       "}\n",
       "\n",
       "#sk-container-id-1 div.sk-toggleable__content.fitted {\n",
       "  /* fitted */\n",
       "  background-color: var(--sklearn-color-fitted-level-0);\n",
       "}\n",
       "\n",
       "#sk-container-id-1 div.sk-toggleable__content pre {\n",
       "  margin: 0.2em;\n",
       "  border-radius: 0.25em;\n",
       "  color: var(--sklearn-color-text);\n",
       "  /* unfitted */\n",
       "  background-color: var(--sklearn-color-unfitted-level-0);\n",
       "}\n",
       "\n",
       "#sk-container-id-1 div.sk-toggleable__content.fitted pre {\n",
       "  /* unfitted */\n",
       "  background-color: var(--sklearn-color-fitted-level-0);\n",
       "}\n",
       "\n",
       "#sk-container-id-1 input.sk-toggleable__control:checked~div.sk-toggleable__content {\n",
       "  /* Expand drop-down */\n",
       "  max-height: 200px;\n",
       "  max-width: 100%;\n",
       "  overflow: auto;\n",
       "}\n",
       "\n",
       "#sk-container-id-1 input.sk-toggleable__control:checked~label.sk-toggleable__label-arrow:before {\n",
       "  content: \"▾\";\n",
       "}\n",
       "\n",
       "/* Pipeline/ColumnTransformer-specific style */\n",
       "\n",
       "#sk-container-id-1 div.sk-label input.sk-toggleable__control:checked~label.sk-toggleable__label {\n",
       "  color: var(--sklearn-color-text);\n",
       "  background-color: var(--sklearn-color-unfitted-level-2);\n",
       "}\n",
       "\n",
       "#sk-container-id-1 div.sk-label.fitted input.sk-toggleable__control:checked~label.sk-toggleable__label {\n",
       "  background-color: var(--sklearn-color-fitted-level-2);\n",
       "}\n",
       "\n",
       "/* Estimator-specific style */\n",
       "\n",
       "/* Colorize estimator box */\n",
       "#sk-container-id-1 div.sk-estimator input.sk-toggleable__control:checked~label.sk-toggleable__label {\n",
       "  /* unfitted */\n",
       "  background-color: var(--sklearn-color-unfitted-level-2);\n",
       "}\n",
       "\n",
       "#sk-container-id-1 div.sk-estimator.fitted input.sk-toggleable__control:checked~label.sk-toggleable__label {\n",
       "  /* fitted */\n",
       "  background-color: var(--sklearn-color-fitted-level-2);\n",
       "}\n",
       "\n",
       "#sk-container-id-1 div.sk-label label.sk-toggleable__label,\n",
       "#sk-container-id-1 div.sk-label label {\n",
       "  /* The background is the default theme color */\n",
       "  color: var(--sklearn-color-text-on-default-background);\n",
       "}\n",
       "\n",
       "/* On hover, darken the color of the background */\n",
       "#sk-container-id-1 div.sk-label:hover label.sk-toggleable__label {\n",
       "  color: var(--sklearn-color-text);\n",
       "  background-color: var(--sklearn-color-unfitted-level-2);\n",
       "}\n",
       "\n",
       "/* Label box, darken color on hover, fitted */\n",
       "#sk-container-id-1 div.sk-label.fitted:hover label.sk-toggleable__label.fitted {\n",
       "  color: var(--sklearn-color-text);\n",
       "  background-color: var(--sklearn-color-fitted-level-2);\n",
       "}\n",
       "\n",
       "/* Estimator label */\n",
       "\n",
       "#sk-container-id-1 div.sk-label label {\n",
       "  font-family: monospace;\n",
       "  font-weight: bold;\n",
       "  display: inline-block;\n",
       "  line-height: 1.2em;\n",
       "}\n",
       "\n",
       "#sk-container-id-1 div.sk-label-container {\n",
       "  text-align: center;\n",
       "}\n",
       "\n",
       "/* Estimator-specific */\n",
       "#sk-container-id-1 div.sk-estimator {\n",
       "  font-family: monospace;\n",
       "  border: 1px dotted var(--sklearn-color-border-box);\n",
       "  border-radius: 0.25em;\n",
       "  box-sizing: border-box;\n",
       "  margin-bottom: 0.5em;\n",
       "  /* unfitted */\n",
       "  background-color: var(--sklearn-color-unfitted-level-0);\n",
       "}\n",
       "\n",
       "#sk-container-id-1 div.sk-estimator.fitted {\n",
       "  /* fitted */\n",
       "  background-color: var(--sklearn-color-fitted-level-0);\n",
       "}\n",
       "\n",
       "/* on hover */\n",
       "#sk-container-id-1 div.sk-estimator:hover {\n",
       "  /* unfitted */\n",
       "  background-color: var(--sklearn-color-unfitted-level-2);\n",
       "}\n",
       "\n",
       "#sk-container-id-1 div.sk-estimator.fitted:hover {\n",
       "  /* fitted */\n",
       "  background-color: var(--sklearn-color-fitted-level-2);\n",
       "}\n",
       "\n",
       "/* Specification for estimator info (e.g. \"i\" and \"?\") */\n",
       "\n",
       "/* Common style for \"i\" and \"?\" */\n",
       "\n",
       ".sk-estimator-doc-link,\n",
       "a:link.sk-estimator-doc-link,\n",
       "a:visited.sk-estimator-doc-link {\n",
       "  float: right;\n",
       "  font-size: smaller;\n",
       "  line-height: 1em;\n",
       "  font-family: monospace;\n",
       "  background-color: var(--sklearn-color-background);\n",
       "  border-radius: 1em;\n",
       "  height: 1em;\n",
       "  width: 1em;\n",
       "  text-decoration: none !important;\n",
       "  margin-left: 1ex;\n",
       "  /* unfitted */\n",
       "  border: var(--sklearn-color-unfitted-level-1) 1pt solid;\n",
       "  color: var(--sklearn-color-unfitted-level-1);\n",
       "}\n",
       "\n",
       ".sk-estimator-doc-link.fitted,\n",
       "a:link.sk-estimator-doc-link.fitted,\n",
       "a:visited.sk-estimator-doc-link.fitted {\n",
       "  /* fitted */\n",
       "  border: var(--sklearn-color-fitted-level-1) 1pt solid;\n",
       "  color: var(--sklearn-color-fitted-level-1);\n",
       "}\n",
       "\n",
       "/* On hover */\n",
       "div.sk-estimator:hover .sk-estimator-doc-link:hover,\n",
       ".sk-estimator-doc-link:hover,\n",
       "div.sk-label-container:hover .sk-estimator-doc-link:hover,\n",
       ".sk-estimator-doc-link:hover {\n",
       "  /* unfitted */\n",
       "  background-color: var(--sklearn-color-unfitted-level-3);\n",
       "  color: var(--sklearn-color-background);\n",
       "  text-decoration: none;\n",
       "}\n",
       "\n",
       "div.sk-estimator.fitted:hover .sk-estimator-doc-link.fitted:hover,\n",
       ".sk-estimator-doc-link.fitted:hover,\n",
       "div.sk-label-container:hover .sk-estimator-doc-link.fitted:hover,\n",
       ".sk-estimator-doc-link.fitted:hover {\n",
       "  /* fitted */\n",
       "  background-color: var(--sklearn-color-fitted-level-3);\n",
       "  color: var(--sklearn-color-background);\n",
       "  text-decoration: none;\n",
       "}\n",
       "\n",
       "/* Span, style for the box shown on hovering the info icon */\n",
       ".sk-estimator-doc-link span {\n",
       "  display: none;\n",
       "  z-index: 9999;\n",
       "  position: relative;\n",
       "  font-weight: normal;\n",
       "  right: .2ex;\n",
       "  padding: .5ex;\n",
       "  margin: .5ex;\n",
       "  width: min-content;\n",
       "  min-width: 20ex;\n",
       "  max-width: 50ex;\n",
       "  color: var(--sklearn-color-text);\n",
       "  box-shadow: 2pt 2pt 4pt #999;\n",
       "  /* unfitted */\n",
       "  background: var(--sklearn-color-unfitted-level-0);\n",
       "  border: .5pt solid var(--sklearn-color-unfitted-level-3);\n",
       "}\n",
       "\n",
       ".sk-estimator-doc-link.fitted span {\n",
       "  /* fitted */\n",
       "  background: var(--sklearn-color-fitted-level-0);\n",
       "  border: var(--sklearn-color-fitted-level-3);\n",
       "}\n",
       "\n",
       ".sk-estimator-doc-link:hover span {\n",
       "  display: block;\n",
       "}\n",
       "\n",
       "/* \"?\"-specific style due to the `<a>` HTML tag */\n",
       "\n",
       "#sk-container-id-1 a.estimator_doc_link {\n",
       "  float: right;\n",
       "  font-size: 1rem;\n",
       "  line-height: 1em;\n",
       "  font-family: monospace;\n",
       "  background-color: var(--sklearn-color-background);\n",
       "  border-radius: 1rem;\n",
       "  height: 1rem;\n",
       "  width: 1rem;\n",
       "  text-decoration: none;\n",
       "  /* unfitted */\n",
       "  color: var(--sklearn-color-unfitted-level-1);\n",
       "  border: var(--sklearn-color-unfitted-level-1) 1pt solid;\n",
       "}\n",
       "\n",
       "#sk-container-id-1 a.estimator_doc_link.fitted {\n",
       "  /* fitted */\n",
       "  border: var(--sklearn-color-fitted-level-1) 1pt solid;\n",
       "  color: var(--sklearn-color-fitted-level-1);\n",
       "}\n",
       "\n",
       "/* On hover */\n",
       "#sk-container-id-1 a.estimator_doc_link:hover {\n",
       "  /* unfitted */\n",
       "  background-color: var(--sklearn-color-unfitted-level-3);\n",
       "  color: var(--sklearn-color-background);\n",
       "  text-decoration: none;\n",
       "}\n",
       "\n",
       "#sk-container-id-1 a.estimator_doc_link.fitted:hover {\n",
       "  /* fitted */\n",
       "  background-color: var(--sklearn-color-fitted-level-3);\n",
       "}\n",
       "</style><div id=\"sk-container-id-1\" class=\"sk-top-container\"><div class=\"sk-text-repr-fallback\"><pre>MultinomialNB()</pre><b>In a Jupyter environment, please rerun this cell to show the HTML representation or trust the notebook. <br />On GitHub, the HTML representation is unable to render, please try loading this page with nbviewer.org.</b></div><div class=\"sk-container\" hidden><div class=\"sk-item\"><div class=\"sk-estimator fitted sk-toggleable\"><input class=\"sk-toggleable__control sk-hidden--visually\" id=\"sk-estimator-id-1\" type=\"checkbox\" checked><label for=\"sk-estimator-id-1\" class=\"sk-toggleable__label fitted sk-toggleable__label-arrow fitted\">&nbsp;&nbsp;MultinomialNB<a class=\"sk-estimator-doc-link fitted\" rel=\"noreferrer\" target=\"_blank\" href=\"https://scikit-learn.org/1.4/modules/generated/sklearn.naive_bayes.MultinomialNB.html\">?<span>Documentation for MultinomialNB</span></a><span class=\"sk-estimator-doc-link fitted\">i<span>Fitted</span></span></label><div class=\"sk-toggleable__content fitted\"><pre>MultinomialNB()</pre></div> </div></div></div></div>"
      ],
      "text/plain": [
       "MultinomialNB()"
      ]
     },
     "execution_count": 31,
     "metadata": {},
     "output_type": "execute_result"
    }
   ],
   "source": [
    "\n",
    "from sklearn.naive_bayes import BernoulliNB, MultinomialNB\n",
    "\n",
    "X_train,X_test,y_train,y_test = train_test_split(X_data,y_data,\n",
    "                                                 test_size=0.2,random_state=42)\n",
    "vect = TfidfVectorizer(use_idf=True,lowercase=True,ngram_range=(1, 2), binary=True)\n",
    "X_train_2 = vect.fit_transform(X_train)\n",
    "X_test_2 = vect.transform(X_test)\n",
    "\n",
    "print(X_train_2.shape)\n",
    "model2 = MultinomialNB()\n",
    "model2.fit(X_train_2,y_train)\n",
    "\n"
   ]
  },
  {
   "cell_type": "markdown",
   "metadata": {},
   "source": [
    "### Multinomial NB"
   ]
  },
  {
   "cell_type": "code",
   "execution_count": 32,
   "metadata": {},
   "outputs": [
    {
     "name": "stdout",
     "output_type": "stream",
     "text": [
      "[0 0 1 1 1 0 1 1 0 1 1 0 1 0 0 1 1 1 1 0 1 1 1 1 1 1 0 0 0 1 1 1 0 0 1 1 1\n",
      " 1 1 1 1 1 0 1 1 0 1 1 0 1 1 0 1 1 0 0 1 0 1 1 1 1 1 1 0 0 0 1 0 1 0 1 1 0\n",
      " 1 0 1 0 0 0 0 0 1 0 1 1 1 0 1 1 0 1 1 0 0 0 1 0 0 1]\n",
      "[0 0 1 1 1 0 1 1 0 1 1 0 1 0 0 1 0 1 1 0 1 1 1 1 1 0 0 0 0 1 0 1 1 0 1 1 1\n",
      " 1 1 1 0 1 0 1 1 0 1 1 0 1 1 0 1 1 0 0 1 0 1 1 1 1 1 0 0 0 0 1 0 1 0 1 1 0\n",
      " 1 0 1 0 0 0 0 0 1 0 1 1 1 1 1 1 0 1 1 0 0 0 1 0 0 1]\n",
      "              precision    recall  f1-score   support\n",
      "\n",
      "           0       0.89      0.95      0.91       165\n",
      "           1       0.96      0.91      0.93       227\n",
      "\n",
      "    accuracy                           0.93       392\n",
      "   macro avg       0.92      0.93      0.92       392\n",
      "weighted avg       0.93      0.93      0.93       392\n",
      "\n"
     ]
    },
    {
     "data": {
      "text/plain": [
       "<Axes: >"
      ]
     },
     "execution_count": 32,
     "metadata": {},
     "output_type": "execute_result"
    },
    {
     "data": {
      "image/png": "[encoded data removed]",
      "text/plain": [
       "<Figure size 640x480 with 2 Axes>"
      ]
     },
     "metadata": {},
     "output_type": "display_data"
    }
   ],
   "source": [
    "\n",
    "\n",
    "predictions_2 = model2.predict(X_test_2)\n",
    "print(predictions_2[:100])\n",
    "print(y_test[:100].values)\n",
    "print(classification_report(predictions_2,y_test))\n",
    "cm = confusion_matrix(predictions_2,y_test)\n",
    "sns.heatmap(data = cm,annot=True,fmt= 'd')"
   ]
  },
  {
   "attachments": {
    "image.png": {
     "image/png": "[encoded data removed]"
    }
   },
   "cell_type": "markdown",
   "metadata": {},
   "source": [
    "![image.png](attachment:image.png)"
   ]
  },
  {
   "cell_type": "code",
   "execution_count": 36,
   "metadata": {},
   "outputs": [],
   "source": [
    "class Multinomial_Naive_Bayes():\n",
    "    def __init__(self) -> None:\n",
    "        self.class_probabilities = None #P(C)\n",
    "        self.feature_probabilities = None #P(f|C)\n",
    "        self.classes = None\n",
    "        self.vocab = None\n",
    "\n",
    "    def preprocess_data(self, data):\n",
    "        # Create a TF-IDF vectorizer with n-grams and binary=True\n",
    "        self.vectorizer = TfidfVectorizer(use_idf=True,lowercase=True, ngram_range=(1, 2), binary=True)\n",
    "        # Fit the vectorizer to the data and transform the data\n",
    "        X = self.vectorizer.fit_transform(data)\n",
    "        X_binary = (X != 0).astype(int)\n",
    "        # Store the vocabulary\n",
    "        self.vocab = self.vectorizer.get_feature_names_out()\n",
    "        return X.toarray()\n",
    "    \n",
    "    def fit(self, X, y):\n",
    "        n_samples, n_features = X.shape\n",
    "        self.classes = np.unique(y)\n",
    "        n_classes = len(self.classes)\n",
    "\n",
    "        # Calculate class probabilities\n",
    "        self.class_probabilities = np.zeros(n_classes)\n",
    "        for i, c in enumerate(self.classes):\n",
    "            self.class_probabilities[i] = np.sum(y == c) / n_samples # P(C)\n",
    "\n",
    "        # Calculate feature probabilities\n",
    "        self.feature_probabilities = np.zeros((n_classes, n_features))\n",
    "        for i, c in enumerate(self.classes):\n",
    "            class_mask = (y == c) # Sample belong the class c (Boolean)\n",
    "            # Sums the occurrences of each feature (word) across the documents belonging to class c\n",
    "            class_word_counts = X[class_mask].sum(axis=0) \n",
    "            # Calculates the total count of all features in class c\n",
    "            total_word_counts = class_word_counts.sum()\n",
    "            \n",
    "            self.feature_probabilities[i] = (class_word_counts + 1) / (total_word_counts \n",
    "                                                                       + n_features) # Add smoothing\n",
    "    \n",
    "    def predict(self, X):\n",
    "        # Calculate log likelihoods for each class\n",
    "        log_likelihoods = np.dot(X, np.log(self.feature_probabilities.T))\n",
    "        log_likelihoods += np.log(self.class_probabilities)\n",
    "        \n",
    "        # Make predictions\n",
    "        predictions = np.argmax(log_likelihoods, axis=1)\n",
    "        return predictions\n",
    "    \n",
    "    pass"
   ]
  },
  {
   "cell_type": "code",
   "execution_count": 37,
   "metadata": {},
   "outputs": [],
   "source": [
    "model_2 = Multinomial_Naive_Bayes()\n",
    "X_data_encoded = model_2.preprocess_data(X_data)\n",
    "X_train,X_test,y_train,y_test = train_test_split(X_data_encoded,y_data,\n",
    "                                                 test_size=0.2,random_state=42)\n",
    "\n",
    "train = model_2.fit(X_train,y_train)\n",
    "predict = model_2.predict(X_test)"
   ]
  },
  {
   "cell_type": "code",
   "execution_count": 38,
   "metadata": {},
   "outputs": [
    {
     "name": "stdout",
     "output_type": "stream",
     "text": [
      "              precision    recall  f1-score   support\n",
      "\n",
      "           0       0.92      0.91      0.92       178\n",
      "           1       0.93      0.93      0.93       214\n",
      "\n",
      "    accuracy                           0.92       392\n",
      "   macro avg       0.92      0.92      0.92       392\n",
      "weighted avg       0.92      0.92      0.92       392\n",
      "\n"
     ]
    },
    {
     "data": {
      "text/plain": [
       "<Axes: >"
      ]
     },
     "execution_count": 38,
     "metadata": {},
     "output_type": "execute_result"
    },
    {
     "data": {
      "image/png": "[encoded data removed]",
      "text/plain": [
       "<Figure size 640x480 with 2 Axes>"
      ]
     },
     "metadata": {},
     "output_type": "display_data"
    }
   ],
   "source": [
    "print(classification_report(predict,y_test))\n",
    "cm = confusion_matrix(predict,y_test)\n",
    "sns.heatmap(data = cm,annot=True,fmt= 'd')"
   ]
  },
  {
   "cell_type": "markdown",
   "metadata": {},
   "source": [
    "## Test a comment"
   ]
  },
  {
   "cell_type": "code",
   "execution_count": null,
   "metadata": {},
   "outputs": [],
   "source": [
    "test_comment1 = \"i don't know why this is a ham comment\"\n",
    "\n",
    "# Preprocess the test comment\n",
    "vocab = model_2.vocab\n",
    "test_comment1_encoded = np.zeros(len(vocab))\n",
    "test_words = test_comment1.lower().split()\n",
    "for word in test_words:\n",
    "    if word in vocab:\n",
    "        index = np.where(vocab == word)[0][0]  # Find the index of the word in the vocab\n",
    "        test_comment1_encoded[index] = 1\n",
    "      \n",
    "# Reshape the test comment to match the expected input shape  \n",
    "test_comment1_encoded = test_comment1_encoded.reshape(1, -1)\n",
    "\n",
    "print(model_2.predict(test_comment1_encoded))\n"
   ]
  },
  {
   "cell_type": "code",
   "execution_count": null,
   "metadata": {},
   "outputs": [],
   "source": [
    "comment2 = \"do u wanna rent 1000000$? yes? check this https://www.youtube.com/watch?v=fHI8X4OXluQ\"\n",
    "\n",
    "test_comment2_encoded = np.zeros(len(vocab))\n",
    "test_words = comment2.lower().split()\n",
    "for word in test_words:\n",
    "    if word in vocab:\n",
    "        index = np.where(vocab == word)[0][0]  # Find the index of the word in the vocab\n",
    "        test_comment2_encoded[index] = 1\n",
    "\n",
    "test_comment2_encoded = test_comment2_encoded.reshape(1, -1)\n",
    "print(model_2.predict(test_comment2_encoded))"
   ]
  }
 ],
 "metadata": {
  "kernelspec": {
   "display_name": "Python 3",
   "language": "python",
   "name": "python3"
  },
  "language_info": {
   "codemirror_mode": {
    "name": "ipython",
    "version": 3
   },
   "file_extension": ".py",
   "mimetype": "text/x-python",
   "name": "python",
   "nbconvert_exporter": "python",
   "pygments_lexer": "ipython3",
   "version": "3.10.10"
  }
 },
 "nbformat": 4,
 "nbformat_minor": 2
}
